{
 "cells": [
  {
   "cell_type": "code",
   "execution_count": 1,
   "metadata": {},
   "outputs": [],
   "source": [
    "def format_for_json(url):\n",
    "    \n",
    "    file = open(url, \"r\")\n",
    "    \n",
    "    replaced_content = \"\"\n",
    "\n",
    "    for line in file:\n",
    "        \n",
    "        line = line.strip()  \n",
    "        new_line = \"\\\"\" + line.lower() + \"\\\",\"   \n",
    "        replaced_content = replaced_content + new_line + \"\\n\"\n",
    "\n",
    "    file.close()\n",
    "\n",
    "    replaced_content = \"[\" + replaced_content + \"]\"\n",
    "\n",
    "    write_file = open(url, \"w\")\n",
    "    write_file.write(replaced_content)\n",
    "    write_file.close()"
   ]
  },
  {
   "cell_type": "code",
   "execution_count": 2,
   "metadata": {},
   "outputs": [],
   "source": [
    "format_for_json(\"LargeEnglishDictionary.txt\")"
   ]
  }
 ],
 "metadata": {
  "kernelspec": {
   "display_name": "Python 3.10.7 64-bit",
   "language": "python",
   "name": "python3"
  },
  "language_info": {
   "codemirror_mode": {
    "name": "ipython",
    "version": 3
   },
   "file_extension": ".py",
   "mimetype": "text/x-python",
   "name": "python",
   "nbconvert_exporter": "python",
   "pygments_lexer": "ipython3",
   "version": "3.10.7"
  },
  "orig_nbformat": 4,
  "vscode": {
   "interpreter": {
    "hash": "aee8b7b246df8f9039afb4144a1f6fd8d2ca17a180786b69acc140d282b71a49"
   }
  }
 },
 "nbformat": 4,
 "nbformat_minor": 2
}
